{
 "cells": [
  {
   "cell_type": "markdown",
   "metadata": {},
   "source": [
    "mean of indivisual subsequences"
   ]
  },
  {
   "cell_type": "code",
   "execution_count": null,
   "metadata": {},
   "outputs": [],
   "source": [
    "X1sub_sequences = (np_sequences[0])\n",
    "mean_sub_sequence = []\n",
    "for i in range(len(X1sub_sequences)):\n",
    "    m = X1sub_sequences[i].mean()\n",
    "    mean_sub_sequence.append(m)\n",
    "\n",
    "mean_sub_sequence\n",
    "mean_sub_sequenceX1 = pd.DataFrame(mean_sub_sequence)\n",
    "mean_sub_sequenceX1\n"
   ]
  },
  {
   "cell_type": "code",
   "execution_count": null,
   "metadata": {},
   "outputs": [],
   "source": []
  },
  {
   "cell_type": "markdown",
   "metadata": {},
   "source": [
    "mean of subsequences clusterwise"
   ]
  },
  {
   "cell_type": "code",
   "execution_count": null,
   "metadata": {},
   "outputs": [],
   "source": [
    "d1=pd.DataFrame(doc_df['X1'])\n",
    "d1.insert(1, 'MeanX1', mean_sub_sequenceX1)\n",
    "d1\n",
    "\n",
    "#d1.loc[(d1['X1'] == 'X1_A'),'MeanX1'].mean() "
   ]
  },
  {
   "cell_type": "code",
   "execution_count": null,
   "metadata": {},
   "outputs": [],
   "source": []
  },
  {
   "cell_type": "code",
   "execution_count": null,
   "metadata": {},
   "outputs": [],
   "source": []
  }
 ],
 "metadata": {
  "kernelspec": {
   "display_name": "Python 3",
   "language": "python",
   "name": "python3"
  },
  "language_info": {
   "codemirror_mode": {
    "name": "ipython",
    "version": 3
   },
   "file_extension": ".py",
   "mimetype": "text/x-python",
   "name": "python",
   "nbconvert_exporter": "python",
   "pygments_lexer": "ipython3",
   "version": "3.8.5"
  }
 },
 "nbformat": 4,
 "nbformat_minor": 4
}
