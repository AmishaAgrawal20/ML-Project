{
 "cells": [
  {
   "cell_type": "code",
   "execution_count": 8,
   "metadata": {},
   "outputs": [],
   "source": [
    "# _importing required libraries\n",
    "import os\n",
    "import collections\n",
    "\n",
    "import pandas as pd\n",
    "import numpy as np\n",
    "from sklearn.cluster import KMeans\n",
    "\n",
    "import matplotlib.pyplot as plt\n",
    "%matplotlib inline "
   ]
  },
  {
   "cell_type": "code",
   "execution_count": 9,
   "metadata": {},
   "outputs": [],
   "source": [
    "input_file_path = os.getcwd() + f'/../data/processed_data.csv'\n",
    "col_names = ['timestamp (s)', 'activityID', 'X1', 'Y1', 'Z1', 'X2', 'Y2', 'Z2']\n",
    "main_df = pd.read_csv(input_file_path, header=None, names=col_names)\n",
    "pd.Series(main_df['timestamp (s)']).is_unique\n",
    "\n",
    "#performing normalization for X1,Y1,Z1,X2,Y2,Z2\n",
    "\n",
    "def normalization(X):   \n",
    "        normalized_values=(main_df[X]-main_df[X].mean())/main_df[X].std()\n",
    "        return normalized_values\n"
   ]
  },
  {
   "cell_type": "code",
   "execution_count": 165,
   "metadata": {},
   "outputs": [
    {
     "data": {
      "text/plain": [
       "0         0.554688\n",
       "1         0.567517\n",
       "2         0.567339\n",
       "3         0.555140\n",
       "4         0.569040\n",
       "            ...   \n",
       "288214   -0.150352\n",
       "288215   -0.151158\n",
       "288216   -0.144073\n",
       "288217   -0.147116\n",
       "288218   -0.173261\n",
       "Name: X1, Length: 288219, dtype: float64"
      ]
     },
     "execution_count": 165,
     "metadata": {},
     "output_type": "execute_result"
    }
   ],
   "source": [
    "normalization('X1')"
   ]
  },
  {
   "cell_type": "code",
   "execution_count": 10,
   "metadata": {},
   "outputs": [],
   "source": [
    "window_length = 10\n",
    "window_overlap = 5\n",
    "sub_sequences = [[], [], [], [], [], []]\n",
    "sequence_names=['X1','Y1','Z1','X2','Y2','Z2']"
   ]
  },
  {
   "cell_type": "code",
   "execution_count": 11,
   "metadata": {},
   "outputs": [],
   "source": [
    "window_index = 0\n",
    "max_window_index = len(main_df.index)\n",
    "\n",
    "while window_index <= (max_window_index - window_length):\n",
    "    for idx in range(len(sub_sequences)):\n",
    "        sub_sequences[idx].append(main_df[sequence_names[idx]][window_index:window_index+window_length])\n",
    "    \n",
    "    window_index += window_overlap\n",
    "np_sequences = np.asarray(sub_sequences)\n",
    " "
   ]
  },
  {
   "cell_type": "code",
   "execution_count": 12,
   "metadata": {},
   "outputs": [
    {
     "name": "stdout",
     "output_type": "stream",
     "text": [
      "(6, 57642, 10)\n"
     ]
    },
    {
     "data": {
      "text/html": [
       "<div>\n",
       "<style scoped>\n",
       "    .dataframe tbody tr th:only-of-type {\n",
       "        vertical-align: middle;\n",
       "    }\n",
       "\n",
       "    .dataframe tbody tr th {\n",
       "        vertical-align: top;\n",
       "    }\n",
       "\n",
       "    .dataframe thead th {\n",
       "        text-align: right;\n",
       "    }\n",
       "</style>\n",
       "<table border=\"1\" class=\"dataframe\">\n",
       "  <thead>\n",
       "    <tr style=\"text-align: right;\">\n",
       "      <th></th>\n",
       "      <th>Assigned_cluster</th>\n",
       "      <th>word_Assigned</th>\n",
       "      <th>X1</th>\n",
       "    </tr>\n",
       "  </thead>\n",
       "  <tbody>\n",
       "    <tr>\n",
       "      <td>0</td>\n",
       "      <td>0.0</td>\n",
       "      <td>AA</td>\n",
       "      <td>2.21530</td>\n",
       "    </tr>\n",
       "    <tr>\n",
       "      <td>1</td>\n",
       "      <td>0.0</td>\n",
       "      <td>AA</td>\n",
       "      <td>2.29196</td>\n",
       "    </tr>\n",
       "    <tr>\n",
       "      <td>2</td>\n",
       "      <td>0.0</td>\n",
       "      <td>AA</td>\n",
       "      <td>2.29090</td>\n",
       "    </tr>\n",
       "    <tr>\n",
       "      <td>3</td>\n",
       "      <td>0.0</td>\n",
       "      <td>AA</td>\n",
       "      <td>2.21800</td>\n",
       "    </tr>\n",
       "    <tr>\n",
       "      <td>4</td>\n",
       "      <td>0.0</td>\n",
       "      <td>AA</td>\n",
       "      <td>2.30106</td>\n",
       "    </tr>\n",
       "    <tr>\n",
       "      <td>...</td>\n",
       "      <td>...</td>\n",
       "      <td>...</td>\n",
       "      <td>...</td>\n",
       "    </tr>\n",
       "    <tr>\n",
       "      <td>288214</td>\n",
       "      <td>NaN</td>\n",
       "      <td>NaN</td>\n",
       "      <td>-1.99794</td>\n",
       "    </tr>\n",
       "    <tr>\n",
       "      <td>288215</td>\n",
       "      <td>NaN</td>\n",
       "      <td>NaN</td>\n",
       "      <td>-2.00276</td>\n",
       "    </tr>\n",
       "    <tr>\n",
       "      <td>288216</td>\n",
       "      <td>NaN</td>\n",
       "      <td>NaN</td>\n",
       "      <td>-1.96042</td>\n",
       "    </tr>\n",
       "    <tr>\n",
       "      <td>288217</td>\n",
       "      <td>NaN</td>\n",
       "      <td>NaN</td>\n",
       "      <td>-1.97860</td>\n",
       "    </tr>\n",
       "    <tr>\n",
       "      <td>288218</td>\n",
       "      <td>NaN</td>\n",
       "      <td>NaN</td>\n",
       "      <td>-2.13484</td>\n",
       "    </tr>\n",
       "  </tbody>\n",
       "</table>\n",
       "<p>288219 rows × 3 columns</p>\n",
       "</div>"
      ],
      "text/plain": [
       "        Assigned_cluster word_Assigned       X1\n",
       "0                    0.0            AA  2.21530\n",
       "1                    0.0            AA  2.29196\n",
       "2                    0.0            AA  2.29090\n",
       "3                    0.0            AA  2.21800\n",
       "4                    0.0            AA  2.30106\n",
       "...                  ...           ...      ...\n",
       "288214               NaN           NaN -1.99794\n",
       "288215               NaN           NaN -2.00276\n",
       "288216               NaN           NaN -1.96042\n",
       "288217               NaN           NaN -1.97860\n",
       "288218               NaN           NaN -2.13484\n",
       "\n",
       "[288219 rows x 3 columns]"
      ]
     },
     "execution_count": 12,
     "metadata": {},
     "output_type": "execute_result"
    }
   ],
   "source": [
    "print(np_sequences.shape)\n",
    "#centroids_array = []\n",
    "#passing random state as an argument to make Kmeans clustering deterministic\n",
    "kmeans = KMeans(n_clusters = 3,random_state=1234)\n",
    "cluster=kmeans.fit_predict(np_sequences[0])\n",
    "clusterId_df=pd.DataFrame(cluster,columns=['Assigned_cluster'])\n",
    "clusterId_df['word_Assigned']=''\n",
    "X1_df=main_df['X1']\n",
    "df=pd.concat([clusterId_df,X1_df],axis=1)\n",
    "\n",
    "df.loc[(df['Assigned_cluster'] == 0),'word_Assigned'] = 'AA'\n",
    "df.loc[(df['Assigned_cluster'] == 1),'word_Assigned'] = 'AB'\n",
    "df.loc[(df['Assigned_cluster'] == 2),'word_Assigned'] = 'AC'\n",
    "df\n",
    "\n",
    "\n",
    "\n",
    "# for seq in range(len(sequence_names)):\n",
    "\n",
    "#     kmeans.fit(np_sequences[seq])\n",
    "\n",
    "#     centroids = kmeans.cluster_centers_\n",
    "#     centroids_array.append(centroids)  \n",
    "    \n",
    "#np_centroids = np.array(centroids_array)"
   ]
  },
  {
   "cell_type": "code",
   "execution_count": 6,
   "metadata": {},
   "outputs": [
    {
     "data": {
      "image/png": "[encoded data removed]",
      "text/plain": [
       "<Figure size 1152x576 with 1 Axes>"
      ]
     },
     "metadata": {
      "needs_background": "light"
     },
     "output_type": "display_data"
    }
   ],
   "source": [
    "distortions = []\n",
    "K = range(1,10)\n",
    "for k in K:\n",
    "    kmeanModel = KMeans(n_clusters=k)\n",
    "    kmeanModel.fit(np_sequences[0])\n",
    "    distortions.append(kmeanModel.inertia_)\n",
    "\n",
    "plt.figure(figsize=(16,8))\n",
    "plt.plot(K, distortions, 'bx-')\n",
    "plt.xlabel('k')\n",
    "plt.ylabel('Distortion')\n",
    "plt.title('The Elbow Method showing the optimal k')\n",
    "plt.show()"
   ]
  },
  {
   "cell_type": "code",
   "execution_count": 19,
   "metadata": {},
   "outputs": [
    {
     "name": "stdout",
     "output_type": "stream",
     "text": [
      "Counter({2: 22022, 0: 18228, 1: 17392})\n"
     ]
    }
   ],
   "source": [
    "print(collections.Counter(kmeans.labels_))"
   ]
  },
  {
   "cell_type": "code",
   "execution_count": 20,
   "metadata": {},
   "outputs": [],
   "source": [
    "centroids=kmeans.cluster_centers_"
   ]
  },
  {
   "cell_type": "code",
   "execution_count": null,
   "metadata": {},
   "outputs": [],
   "source": []
  }
 ],
 "metadata": {
  "kernelspec": {
   "display_name": "Python 3",
   "language": "python",
   "name": "python3"
  },
  "language_info": {
   "codemirror_mode": {
    "name": "ipython",
    "version": 3
   },
   "file_extension": ".py",
   "mimetype": "text/x-python",
   "name": "python",
   "nbconvert_exporter": "python",
   "pygments_lexer": "ipython3",
   "version": "3.7.4"
  }
 },
 "nbformat": 4,
 "nbformat_minor": 4
}
