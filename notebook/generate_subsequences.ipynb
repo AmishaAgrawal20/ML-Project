{
 "cells": [
  {
   "cell_type": "code",
   "execution_count": 2,
   "metadata": {},
   "outputs": [],
   "source": [
    "# _importing required libraries\n",
    "import os\n",
    "import collections\n",
    "\n",
    "import pandas as pd\n",
    "import numpy as np\n",
    "from sklearn.cluster import KMeans\n",
    "\n",
    "import matplotlib.pyplot as plt\n",
    "from mpl_toolkits.mplot3d import Axes3D"
   ]
  },
  {
   "cell_type": "code",
   "execution_count": 3,
   "metadata": {},
   "outputs": [
    {
     "data": {
      "text/html": [
       "<div>\n",
       "<style scoped>\n",
       "    .dataframe tbody tr th:only-of-type {\n",
       "        vertical-align: middle;\n",
       "    }\n",
       "\n",
       "    .dataframe tbody tr th {\n",
       "        vertical-align: top;\n",
       "    }\n",
       "\n",
       "    .dataframe thead th {\n",
       "        text-align: right;\n",
       "    }\n",
       "</style>\n",
       "<table border=\"1\" class=\"dataframe\">\n",
       "  <thead>\n",
       "    <tr style=\"text-align: right;\">\n",
       "      <th></th>\n",
       "      <th>timestamp (s)</th>\n",
       "      <th>activityID</th>\n",
       "      <th>X1</th>\n",
       "      <th>Y1</th>\n",
       "      <th>Z1</th>\n",
       "      <th>X2</th>\n",
       "      <th>Y2</th>\n",
       "      <th>Z2</th>\n",
       "    </tr>\n",
       "  </thead>\n",
       "  <tbody>\n",
       "    <tr>\n",
       "      <th>0</th>\n",
       "      <td>37.66</td>\n",
       "      <td>1</td>\n",
       "      <td>2.21530</td>\n",
       "      <td>8.27915</td>\n",
       "      <td>5.58753</td>\n",
       "      <td>-0.004750</td>\n",
       "      <td>0.037579</td>\n",
       "      <td>-0.011145</td>\n",
       "    </tr>\n",
       "    <tr>\n",
       "      <th>1</th>\n",
       "      <td>37.67</td>\n",
       "      <td>1</td>\n",
       "      <td>2.29196</td>\n",
       "      <td>7.67288</td>\n",
       "      <td>5.74467</td>\n",
       "      <td>-0.171710</td>\n",
       "      <td>0.025479</td>\n",
       "      <td>-0.009538</td>\n",
       "    </tr>\n",
       "    <tr>\n",
       "      <th>2</th>\n",
       "      <td>37.68</td>\n",
       "      <td>1</td>\n",
       "      <td>2.29090</td>\n",
       "      <td>7.14240</td>\n",
       "      <td>5.82342</td>\n",
       "      <td>-0.238241</td>\n",
       "      <td>0.011214</td>\n",
       "      <td>0.000831</td>\n",
       "    </tr>\n",
       "    <tr>\n",
       "      <th>3</th>\n",
       "      <td>37.69</td>\n",
       "      <td>1</td>\n",
       "      <td>2.21800</td>\n",
       "      <td>7.14365</td>\n",
       "      <td>5.89930</td>\n",
       "      <td>-0.192912</td>\n",
       "      <td>0.019053</td>\n",
       "      <td>0.013374</td>\n",
       "    </tr>\n",
       "    <tr>\n",
       "      <th>4</th>\n",
       "      <td>37.70</td>\n",
       "      <td>1</td>\n",
       "      <td>2.30106</td>\n",
       "      <td>7.25857</td>\n",
       "      <td>6.09259</td>\n",
       "      <td>-0.069961</td>\n",
       "      <td>-0.018328</td>\n",
       "      <td>0.004582</td>\n",
       "    </tr>\n",
       "    <tr>\n",
       "      <th>...</th>\n",
       "      <td>...</td>\n",
       "      <td>...</td>\n",
       "      <td>...</td>\n",
       "      <td>...</td>\n",
       "      <td>...</td>\n",
       "      <td>...</td>\n",
       "      <td>...</td>\n",
       "      <td>...</td>\n",
       "    </tr>\n",
       "    <tr>\n",
       "      <th>288214</th>\n",
       "      <td>974.50</td>\n",
       "      <td>3</td>\n",
       "      <td>-1.99794</td>\n",
       "      <td>3.94300</td>\n",
       "      <td>9.15686</td>\n",
       "      <td>-0.112651</td>\n",
       "      <td>-0.003501</td>\n",
       "      <td>-0.066523</td>\n",
       "    </tr>\n",
       "    <tr>\n",
       "      <th>288215</th>\n",
       "      <td>974.51</td>\n",
       "      <td>3</td>\n",
       "      <td>-2.00276</td>\n",
       "      <td>4.20689</td>\n",
       "      <td>8.96346</td>\n",
       "      <td>-0.179092</td>\n",
       "      <td>0.020300</td>\n",
       "      <td>-0.010637</td>\n",
       "    </tr>\n",
       "    <tr>\n",
       "      <th>288216</th>\n",
       "      <td>974.52</td>\n",
       "      <td>3</td>\n",
       "      <td>-1.96042</td>\n",
       "      <td>4.09413</td>\n",
       "      <td>9.11842</td>\n",
       "      <td>-0.285215</td>\n",
       "      <td>0.010714</td>\n",
       "      <td>-0.017346</td>\n",
       "    </tr>\n",
       "    <tr>\n",
       "      <th>288217</th>\n",
       "      <td>974.53</td>\n",
       "      <td>3</td>\n",
       "      <td>-1.97860</td>\n",
       "      <td>3.78659</td>\n",
       "      <td>8.65734</td>\n",
       "      <td>-0.347098</td>\n",
       "      <td>0.040476</td>\n",
       "      <td>-0.020536</td>\n",
       "    </tr>\n",
       "    <tr>\n",
       "      <th>288218</th>\n",
       "      <td>974.54</td>\n",
       "      <td>3</td>\n",
       "      <td>-2.13484</td>\n",
       "      <td>3.63499</td>\n",
       "      <td>8.54005</td>\n",
       "      <td>-0.369435</td>\n",
       "      <td>0.036868</td>\n",
       "      <td>0.014151</td>\n",
       "    </tr>\n",
       "  </tbody>\n",
       "</table>\n",
       "<p>288219 rows × 8 columns</p>\n",
       "</div>"
      ],
      "text/plain": [
       "        timestamp (s)  activityID       X1       Y1       Z1        X2  \\\n",
       "0               37.66           1  2.21530  8.27915  5.58753 -0.004750   \n",
       "1               37.67           1  2.29196  7.67288  5.74467 -0.171710   \n",
       "2               37.68           1  2.29090  7.14240  5.82342 -0.238241   \n",
       "3               37.69           1  2.21800  7.14365  5.89930 -0.192912   \n",
       "4               37.70           1  2.30106  7.25857  6.09259 -0.069961   \n",
       "...               ...         ...      ...      ...      ...       ...   \n",
       "288214         974.50           3 -1.99794  3.94300  9.15686 -0.112651   \n",
       "288215         974.51           3 -2.00276  4.20689  8.96346 -0.179092   \n",
       "288216         974.52           3 -1.96042  4.09413  9.11842 -0.285215   \n",
       "288217         974.53           3 -1.97860  3.78659  8.65734 -0.347098   \n",
       "288218         974.54           3 -2.13484  3.63499  8.54005 -0.369435   \n",
       "\n",
       "              Y2        Z2  \n",
       "0       0.037579 -0.011145  \n",
       "1       0.025479 -0.009538  \n",
       "2       0.011214  0.000831  \n",
       "3       0.019053  0.013374  \n",
       "4      -0.018328  0.004582  \n",
       "...          ...       ...  \n",
       "288214 -0.003501 -0.066523  \n",
       "288215  0.020300 -0.010637  \n",
       "288216  0.010714 -0.017346  \n",
       "288217  0.040476 -0.020536  \n",
       "288218  0.036868  0.014151  \n",
       "\n",
       "[288219 rows x 8 columns]"
      ]
     },
     "execution_count": 3,
     "metadata": {},
     "output_type": "execute_result"
    }
   ],
   "source": [
    "input_file_path = os.getcwd() + f'/../data/processed_data.csv'\n",
    "col_names = ['timestamp (s)', 'activityID', 'X1', 'Y1', 'Z1', 'X2', 'Y2', 'Z2']\n",
    "main_df = pd.read_csv(input_file_path, header=None, names=col_names)\n",
    "pd.Series(main_df['timestamp (s)']).is_unique\n",
    "main_df"
   ]
  },
  {
   "cell_type": "code",
   "execution_count": 4,
   "metadata": {},
   "outputs": [],
   "source": [
    "window_length = 10\n",
    "window_overlap = 5\n",
    "sub_sequences = [[], [], [], [], [], []]\n",
    "sequence_names = ['X1', 'Y1', 'Z1', 'X2', 'Y2', 'Z2']"
   ]
  },
  {
   "cell_type": "code",
   "execution_count": 5,
   "metadata": {},
   "outputs": [],
   "source": [
    "window_index = 0\n",
    "max_window_index = len(main_df.index)\n",
    "\n",
    "while window_index <= (max_window_index - window_length):\n",
    "    for idx in range(len(sub_sequences)):\n",
    "        sub_sequences[idx].append(main_df[sequence_names[idx]][window_index:window_index+window_length])\n",
    "    \n",
    "    window_index += window_overlap\n",
    "np_sequences = np.asarray(sub_sequences)"
   ]
  },
  {
   "cell_type": "code",
   "execution_count": 10,
   "metadata": {},
   "outputs": [
    {
     "name": "stdout",
     "output_type": "stream",
     "text": [
      "(6, 57642, 10)\n",
      "[0 0 0 ... 0 0 0]\n"
     ]
    }
   ],
   "source": [
    "print(np_sequences.shape)\n",
    "centroids_array = []\n",
    "kmeans = KMeans(n_clusters = 3)\n",
    "kmeans.fit(np_sequences[0])\n",
    "\n",
    "# for seq in range(len(sequence_names)):\n",
    "\n",
    "#     kmeans.fit(np_sequences[seq])\n",
    "\n",
    "#     centroids = kmeans.cluster_centers_\n",
    "#     centroids_array.append(centroids)  \n",
    "    \n",
    "#np_centroids = np.array(centroids_array)"
   ]
  },
  {
   "cell_type": "code",
   "execution_count": 11,
   "metadata": {},
   "outputs": [
    {
     "name": "stdout",
     "output_type": "stream",
     "text": [
      "Counter({0: 22021, 2: 18227, 1: 17394})\n"
     ]
    }
   ],
   "source": [
    "print(collections.Counter(kmeans.labels_))"
   ]
  },
  {
   "cell_type": "code",
   "execution_count": 12,
   "metadata": {},
   "outputs": [
    {
     "name": "stdout",
     "output_type": "stream",
     "text": [
      "[[-0.85284742 -0.85208739 -0.8500552  -0.85717359 -0.85469406 -0.85139218\n",
      "  -0.85144263 -0.85277786 -0.85420103 -0.85349144]\n",
      " [ 6.31549731  6.31838395  6.31969076  6.32089879  6.32197073  6.32110317\n",
      "   6.32094845  6.31929277  6.31751381  6.31564513]\n",
      " [-8.47618124 -8.47938302 -8.47960917 -8.48051685 -8.48261301 -8.48352219\n",
      "  -8.48285329 -8.47617588 -8.48111787 -8.47826344]]\n"
     ]
    }
   ],
   "source": [
    "print(kmeans.cluster_centers_)"
   ]
  }
 ],
 "metadata": {
  "kernelspec": {
   "display_name": "Python 3",
   "language": "python",
   "name": "python3"
  },
  "language_info": {
   "codemirror_mode": {
    "name": "ipython",
    "version": 3
   },
   "file_extension": ".py",
   "mimetype": "text/x-python",
   "name": "python",
   "nbconvert_exporter": "python",
   "pygments_lexer": "ipython3",
   "version": "3.7.5"
  }
 },
 "nbformat": 4,
 "nbformat_minor": 4
}
