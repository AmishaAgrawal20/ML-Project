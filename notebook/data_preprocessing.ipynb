{
 "cells": [
  {
   "cell_type": "code",
   "execution_count": 8,
   "metadata": {},
   "outputs": [],
   "source": [
    "import pandas as pd\n",
    "import os"
   ]
  },
  {
   "cell_type": "code",
   "execution_count": 15,
   "metadata": {},
   "outputs": [],
   "source": [
    "def data_preprocessing():\n",
    "\n",
    "        #path of data file\n",
    "        path = os.getcwd() + '/../data/sample.dat'\n",
    "        #Giving column names \n",
    "        #considered columns from dataset are\n",
    "        # timestamp (s)\n",
    "        # activityID  \n",
    "        # heart rate (bpm)\n",
    "        # (IMU hand) 3D-acceleration data (ms-2), scale: ±16g, resolution: 13-bit \n",
    "        # (IMU hand) 3D-gyroscope data (rad/s)\n",
    "        col_names = ['timestamp (s)', 'activityID', 'heart rate (bpm)', 'X1', 'Y1', 'Z1', 'X2', 'Y2', 'Z2']\n",
    "        #required columns list\n",
    "        required_cols = [0,1,2,4,5,6,10,11,12]\n",
    "        #loading data into pandas dataframe\n",
    "        data = pd.read_csv(path, header=None, names=col_names, sep='\\s+', usecols=required_cols, engine='python')\n",
    "        #printing few records of data\n",
    "        print(data.head())\n",
    "        #showing null values count for each column\n",
    "        print(data.isna().sum())\n",
    "        #columns list for which we need to perform ouliers operation\n",
    "        cols = ['X1', 'Y1', 'Z1', 'X2', 'Y2', 'Z2']\n",
    "        #calculating threshold values to remove outliers which are +3 or -3 std away from mean\n",
    "        lower = data[cols].quantile(0.01)\n",
    "        higher  = data[cols].quantile(0.99)\n",
    "        print(lower,higher)\n",
    "        # checking and removing outliers\n",
    "        data = data[((data[cols] < higher) & (data[cols] > lower)).any(axis=1)]\n",
    "        #printing few records of data\n",
    "        print(data.head())"
   ]
  },
  {
   "cell_type": "code",
   "execution_count": 16,
   "metadata": {},
   "outputs": [
    {
     "name": "stdout",
     "output_type": "stream",
     "text": [
      "   timestamp (s)  activityID  heart rate (bpm)       X1       Y1       Z1  \\\n",
      "0           8.38           0             104.0  2.37223  8.60074  3.51048   \n",
      "1           8.39           0               NaN  2.18837  8.56560  3.66179   \n",
      "2           8.40           0               NaN  2.37357  8.60107  3.54898   \n",
      "3           8.41           0               NaN  2.07473  8.52853  3.66021   \n",
      "4           8.42           0               NaN  2.22936  8.83122  3.70000   \n",
      "\n",
      "         X2        Y2        Z2  \n",
      "0 -0.092217  0.056812 -0.015845  \n",
      "1 -0.024413  0.047758  0.006474  \n",
      "2 -0.057976  0.032574 -0.006988  \n",
      "3 -0.002352  0.032810 -0.003747  \n",
      "4  0.012269  0.018305 -0.053325  \n",
      "timestamp (s)          0\n",
      "activityID             0\n",
      "heart rate (bpm)    9086\n",
      "X1                     0\n",
      "Y1                     0\n",
      "Z1                     0\n",
      "X2                     0\n",
      "Y2                     0\n",
      "Z2                     0\n",
      "dtype: int64\n",
      "X1   -8.480796\n",
      "Y1    1.877338\n",
      "Z1   -1.780642\n",
      "X2   -1.120714\n",
      "Y2   -1.210082\n",
      "Z2   -1.129621\n",
      "Name: 0.01, dtype: float64 X1     6.353500\n",
      "Y1    10.425224\n",
      "Z1     8.368665\n",
      "X2     1.293103\n",
      "Y2     0.776432\n",
      "Z2     0.977632\n",
      "Name: 0.99, dtype: float64\n",
      "   timestamp (s)  activityID  heart rate (bpm)       X1       Y1       Z1  \\\n",
      "0           8.38           0             104.0  2.37223  8.60074  3.51048   \n",
      "1           8.39           0               NaN  2.18837  8.56560  3.66179   \n",
      "2           8.40           0               NaN  2.37357  8.60107  3.54898   \n",
      "3           8.41           0               NaN  2.07473  8.52853  3.66021   \n",
      "4           8.42           0               NaN  2.22936  8.83122  3.70000   \n",
      "\n",
      "         X2        Y2        Z2  \n",
      "0 -0.092217  0.056812 -0.015845  \n",
      "1 -0.024413  0.047758  0.006474  \n",
      "2 -0.057976  0.032574 -0.006988  \n",
      "3 -0.002352  0.032810 -0.003747  \n",
      "4  0.012269  0.018305 -0.053325  \n"
     ]
    }
   ],
   "source": [
    "data_preprocessing()"
   ]
  }
 ],
 "metadata": {
  "kernelspec": {
   "display_name": "Python 3",
   "language": "python",
   "name": "python3"
  },
  "language_info": {
   "codemirror_mode": {
    "name": "ipython",
    "version": 3
   },
   "file_extension": ".py",
   "mimetype": "text/x-python",
   "name": "python",
   "nbconvert_exporter": "python",
   "pygments_lexer": "ipython3",
   "version": "3.7.5"
  }
 },
 "nbformat": 4,
 "nbformat_minor": 4
}
