{
 "cells": [
  {
   "cell_type": "markdown",
   "metadata": {},
   "source": [
    "# Data Pre-processing steps"
   ]
  },
  {
   "cell_type": "code",
   "execution_count": 1,
   "metadata": {},
   "outputs": [],
   "source": [
    "# _importing required libraries\n",
    "import pandas as pd\n",
    "import os\n",
    "import glob\n",
    "\n",
    "import numpy as np"
   ]
  },
  {
   "cell_type": "code",
   "execution_count": 2,
   "metadata": {},
   "outputs": [],
   "source": [
    "dataset_path_train = os.getcwd() + '/../data/UCI HAR Dataset/train/Inertial Signals'\n",
    "dataset_path_test = os.getcwd() + '/../data/UCI HAR Dataset/test/Inertial Signals'"
   ]
  },
  {
   "cell_type": "code",
   "execution_count": 3,
   "metadata": {},
   "outputs": [],
   "source": [
    "def load_data(folder):\n",
    "    \n",
    "    file_names = [f'total_acc_x_{folder}.txt', f'total_acc_y_{folder}.txt', f'total_acc_z_{folder}.txt', f'body_gyro_x_{folder}.txt', f'body_gyro_y_{folder}.txt', f'body_gyro_z_{folder}.txt']\n",
    "    raw_sensor_data = []\n",
    "    \n",
    "    for file in file_names:\n",
    "        file_path = os.getcwd() + f'/../data/UCI HAR Dataset/{folder}/Inertial Signals/{file}'\n",
    "        \n",
    "        raw_sensor_data.append(np.loadtxt(file_path))\n",
    "        \n",
    "    return raw_sensor_data"
   ]
  },
  {
   "cell_type": "code",
   "execution_count": 4,
   "metadata": {},
   "outputs": [],
   "source": [
    "train_data = load_data(folder= 'train')\n",
    "test_data = load_data(folder= 'test')"
   ]
  },
  {
   "cell_type": "code",
   "execution_count": 5,
   "metadata": {},
   "outputs": [],
   "source": [
    "X_train = []\n",
    "y_train = []\n",
    "X_test = []\n",
    "y_test = []\n",
    "train_len = train_data[0].shape[0]\n",
    "test_len = test_data[0].shape[0]\n",
    "\n",
    "subject_train = []\n",
    "subject_test = []"
   ]
  },
  {
   "cell_type": "code",
   "execution_count": 6,
   "metadata": {},
   "outputs": [],
   "source": [
    "y_train = np.loadtxt(os.getcwd() + '/../data/UCI HAR Dataset/train/y_train.txt')\n",
    "y_test = np.loadtxt(os.getcwd() + '/../data/UCI HAR Dataset/test/y_test.txt')\n",
    "\n",
    "subject_train = np.loadtxt(os.getcwd() + '/../data/UCI HAR Dataset/train/subject_train.txt')\n",
    "subject_test = np.loadtxt(os.getcwd() + '/../data/UCI HAR Dataset/test/subject_test.txt')"
   ]
  },
  {
   "cell_type": "code",
   "execution_count": 7,
   "metadata": {},
   "outputs": [],
   "source": [
    "train_data = [x.reshape(train_len*128) for x in train_data]\n",
    "test_data = [x.reshape(test_len*128) for x in test_data]"
   ]
  },
  {
   "cell_type": "code",
   "execution_count": 8,
   "metadata": {},
   "outputs": [],
   "source": [
    "X_train = np.asarray(train_data)\n",
    "X_train = np.transpose(X_train)\n",
    "\n",
    "X_test = np.asarray(test_data)\n",
    "X_test = np.transpose(X_test)"
   ]
  },
  {
   "cell_type": "code",
   "execution_count": 9,
   "metadata": {},
   "outputs": [],
   "source": [
    "y_train = np.repeat(y_train, 128)\n",
    "y_test = np.repeat(y_test, 128)\n",
    "\n",
    "subject_train = np.repeat(subject_train, 128)\n",
    "subject_test = np.repeat(subject_test, 128)"
   ]
  },
  {
   "cell_type": "code",
   "execution_count": 10,
   "metadata": {},
   "outputs": [],
   "source": [
    "assert X_train.shape[0] == y_train.shape[0] == subject_train.shape[0]"
   ]
  },
  {
   "cell_type": "code",
   "execution_count": 11,
   "metadata": {},
   "outputs": [],
   "source": [
    "assert X_test.shape[0] == y_test.shape[0] == subject_test.shape[0]"
   ]
  },
  {
   "cell_type": "code",
   "execution_count": 12,
   "metadata": {},
   "outputs": [],
   "source": [
    "subject_train = subject_train.reshape(-1,1)\n",
    "y_train = y_train.reshape(-1, 1)\n",
    "\n",
    "subject_test = subject_test.reshape(-1,1)\n",
    "y_test = y_test.reshape(-1, 1)"
   ]
  },
  {
   "cell_type": "code",
   "execution_count": 13,
   "metadata": {},
   "outputs": [],
   "source": [
    "final_data_train =  np.concatenate([subject_train, y_train, X_train], axis=1)\n",
    "final_data_test = np.concatenate([subject_test, y_test, X_test], axis=1)"
   ]
  },
  {
   "cell_type": "code",
   "execution_count": 14,
   "metadata": {},
   "outputs": [
    {
     "data": {
      "text/plain": [
       "(941056, 8)"
      ]
     },
     "execution_count": 14,
     "metadata": {},
     "output_type": "execute_result"
    }
   ],
   "source": [
    "final_data_train.shape"
   ]
  },
  {
   "cell_type": "code",
   "execution_count": 15,
   "metadata": {},
   "outputs": [],
   "source": [
    "np.savetxt(os.getcwd() + f'/../data/output_csv/processed_data_train.csv', final_data_train , delimiter=\",\")\n",
    "np.savetxt(os.getcwd() + f'/../data/output_csv/processed_data_test.csv', final_data_test , delimiter=\",\")"
   ]
  }
 ],
 "metadata": {
  "kernelspec": {
   "display_name": "Python 3",
   "language": "python",
   "name": "python3"
  },
  "language_info": {
   "codemirror_mode": {
    "name": "ipython",
    "version": 3
   },
   "file_extension": ".py",
   "mimetype": "text/x-python",
   "name": "python",
   "nbconvert_exporter": "python",
   "pygments_lexer": "ipython3",
   "version": "3.7.5"
  }
 },
 "nbformat": 4,
 "nbformat_minor": 4
}
