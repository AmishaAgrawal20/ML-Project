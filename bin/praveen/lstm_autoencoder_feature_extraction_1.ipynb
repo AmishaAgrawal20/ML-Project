{
  "nbformat": 4,
  "nbformat_minor": 0,
  "metadata": {
    "accelerator": "GPU",
    "colab": {
      "name": "lstm_autoencoder_feature_extraction_1.ipynb",
      "provenance": [],
      "collapsed_sections": []
    },
    "kernelspec": {
      "display_name": "Python 3",
      "language": "python",
      "name": "python3"
    },
    "language_info": {
      "codemirror_mode": {
        "name": "ipython",
        "version": 3
      },
      "file_extension": ".py",
      "mimetype": "text/x-python",
      "name": "python",
      "nbconvert_exporter": "python",
      "pygments_lexer": "ipython3",
      "version": "3.7.5"
    }
  },
  "cells": [
    {
      "cell_type": "markdown",
      "metadata": {
        "id": "bbgSPkLs2O5R"
      },
      "source": [
        "https://machinelearningmastery.com/lstm-autoencoders/\n",
        "\n",
        "https://machinelearningmastery.com/multivariate-time-series-forecasting-lstms-keras/\n",
        "\n",
        "https://towardsdatascience.com/lstm-autoencoder-for-extreme-rare-event-classification-in-keras-ce209a224cfb\n",
        "\n",
        "https://towardsdatascience.com/step-by-step-understanding-lstm-autoencoder-layers-ffab055b6352"
      ]
    },
    {
      "cell_type": "code",
      "metadata": {
        "colab": {
          "base_uri": "https://localhost:8080/"
        },
        "id": "GRceghVPnk0h",
        "outputId": "f6348c9c-78ea-4051-9798-526c993a700c"
      },
      "source": [
        "from google.colab import drive\n",
        "drive.mount('/content/drive')"
      ],
      "execution_count": null,
      "outputs": [
        {
          "output_type": "stream",
          "text": [
            "Mounted at /content/drive\n"
          ],
          "name": "stdout"
        }
      ]
    },
    {
      "cell_type": "markdown",
      "metadata": {
        "id": "A47cl9CReAWh"
      },
      "source": [
        "1. MinMax scalar\n",
        "2. Different loss functions\n",
        "3. How to take output of encoder part"
      ]
    },
    {
      "cell_type": "code",
      "metadata": {
        "id": "LAyyJc797b46"
      },
      "source": [
        "import pandas as pd\n",
        "import numpy as np\n",
        "import matplotlib.pyplot as plt\n",
        "%matplotlib inline\n",
        "\n",
        "import tensorflow as tf"
      ],
      "execution_count": null,
      "outputs": []
    },
    {
      "cell_type": "code",
      "metadata": {
        "colab": {
          "base_uri": "https://localhost:8080/"
        },
        "id": "UsfSi6bKK6eb",
        "outputId": "9e6fc602-d33a-4e6c-d5c3-b1681219cf47"
      },
      "source": [
        "!pip install -U umap-learn\n",
        "import umap"
      ],
      "execution_count": null,
      "outputs": [
        {
          "output_type": "stream",
          "text": [
            "Collecting umap-learn\n",
            "\u001b[?25l  Downloading https://files.pythonhosted.org/packages/75/69/85e7f950bb75792ad5d666d86c5f3e62eedbb942848e7e3126513af9999c/umap-learn-0.5.1.tar.gz (80kB)\n",
            "\u001b[K     |████████████████████████████████| 81kB 6.7MB/s \n",
            "\u001b[?25hRequirement already satisfied, skipping upgrade: numpy>=1.17 in /usr/local/lib/python3.7/dist-packages (from umap-learn) (1.19.5)\n",
            "Requirement already satisfied, skipping upgrade: scikit-learn>=0.22 in /usr/local/lib/python3.7/dist-packages (from umap-learn) (0.22.2.post1)\n",
            "Requirement already satisfied, skipping upgrade: scipy>=1.0 in /usr/local/lib/python3.7/dist-packages (from umap-learn) (1.4.1)\n",
            "Requirement already satisfied, skipping upgrade: numba>=0.49 in /usr/local/lib/python3.7/dist-packages (from umap-learn) (0.51.2)\n",
            "Collecting pynndescent>=0.5\n",
            "\u001b[?25l  Downloading https://files.pythonhosted.org/packages/af/65/8189298dd3a05bbad716ee8e249764ff8800e365d8dc652ad2192ca01b4a/pynndescent-0.5.2.tar.gz (1.1MB)\n",
            "\u001b[K     |████████████████████████████████| 1.2MB 22.8MB/s \n",
            "\u001b[?25hRequirement already satisfied, skipping upgrade: joblib>=0.11 in /usr/local/lib/python3.7/dist-packages (from scikit-learn>=0.22->umap-learn) (1.0.1)\n",
            "Requirement already satisfied, skipping upgrade: llvmlite<0.35,>=0.34.0.dev0 in /usr/local/lib/python3.7/dist-packages (from numba>=0.49->umap-learn) (0.34.0)\n",
            "Requirement already satisfied, skipping upgrade: setuptools in /usr/local/lib/python3.7/dist-packages (from numba>=0.49->umap-learn) (54.2.0)\n",
            "Building wheels for collected packages: umap-learn, pynndescent\n",
            "  Building wheel for umap-learn (setup.py) ... \u001b[?25l\u001b[?25hdone\n",
            "  Created wheel for umap-learn: filename=umap_learn-0.5.1-cp37-none-any.whl size=76569 sha256=59e4788d0deeeedb34e1973e045ad7f3b4720bee234cc78b83aaaec52e98fb80\n",
            "  Stored in directory: /root/.cache/pip/wheels/ad/df/d5/a3691296ff779f25cd1cf415a3af954b987fb53111e3392cf4\n",
            "  Building wheel for pynndescent (setup.py) ... \u001b[?25l\u001b[?25hdone\n",
            "  Created wheel for pynndescent: filename=pynndescent-0.5.2-cp37-none-any.whl size=51351 sha256=33922884388b0ae5a23cdf9f77fadb3129f23ac1bd24035265669a54aa4b5f2c\n",
            "  Stored in directory: /root/.cache/pip/wheels/ba/52/4e/4c28d04d144a28f89e2575fb63628df6e6d49b56c5ddd0c74e\n",
            "Successfully built umap-learn pynndescent\n",
            "Installing collected packages: pynndescent, umap-learn\n",
            "Successfully installed pynndescent-0.5.2 umap-learn-0.5.1\n"
          ],
          "name": "stdout"
        }
      ]
    },
    {
      "cell_type": "code",
      "metadata": {
        "colab": {
          "base_uri": "https://localhost:8080/"
        },
        "id": "n2VQum6kIKHf",
        "outputId": "f94e8bae-5185-4cc1-c4a0-e14a26db0f08"
      },
      "source": [
        "!pip install -U keras-tuner\n",
        "import kerastuner as kt"
      ],
      "execution_count": null,
      "outputs": [
        {
          "output_type": "stream",
          "text": [
            "Collecting keras-tuner\n",
            "\u001b[?25l  Downloading https://files.pythonhosted.org/packages/20/ec/1ef246787174b1e2bb591c95f29d3c1310070cad877824f907faba3dade9/keras-tuner-1.0.2.tar.gz (62kB)\n",
            "\r\u001b[K     |█████▏                          | 10kB 23.7MB/s eta 0:00:01\r\u001b[K     |██████████▍                     | 20kB 27.3MB/s eta 0:00:01\r\u001b[K     |███████████████▋                | 30kB 24.0MB/s eta 0:00:01\r\u001b[K     |████████████████████▉           | 40kB 21.4MB/s eta 0:00:01\r\u001b[K     |██████████████████████████      | 51kB 22.3MB/s eta 0:00:01\r\u001b[K     |███████████████████████████████▎| 61kB 16.4MB/s eta 0:00:01\r\u001b[K     |████████████████████████████████| 71kB 7.0MB/s \n",
            "\u001b[?25hRequirement already satisfied, skipping upgrade: packaging in /usr/local/lib/python3.7/dist-packages (from keras-tuner) (20.9)\n",
            "Requirement already satisfied, skipping upgrade: future in /usr/local/lib/python3.7/dist-packages (from keras-tuner) (0.16.0)\n",
            "Requirement already satisfied, skipping upgrade: numpy in /usr/local/lib/python3.7/dist-packages (from keras-tuner) (1.19.5)\n",
            "Requirement already satisfied, skipping upgrade: tabulate in /usr/local/lib/python3.7/dist-packages (from keras-tuner) (0.8.9)\n",
            "Collecting terminaltables\n",
            "  Downloading https://files.pythonhosted.org/packages/9b/c4/4a21174f32f8a7e1104798c445dacdc1d4df86f2f26722767034e4de4bff/terminaltables-3.1.0.tar.gz\n",
            "Collecting colorama\n",
            "  Downloading https://files.pythonhosted.org/packages/44/98/5b86278fbbf250d239ae0ecb724f8572af1c91f4a11edf4d36a206189440/colorama-0.4.4-py2.py3-none-any.whl\n",
            "Requirement already satisfied, skipping upgrade: tqdm in /usr/local/lib/python3.7/dist-packages (from keras-tuner) (4.41.1)\n",
            "Requirement already satisfied, skipping upgrade: requests in /usr/local/lib/python3.7/dist-packages (from keras-tuner) (2.23.0)\n",
            "Requirement already satisfied, skipping upgrade: scipy in /usr/local/lib/python3.7/dist-packages (from keras-tuner) (1.4.1)\n",
            "Requirement already satisfied, skipping upgrade: scikit-learn in /usr/local/lib/python3.7/dist-packages (from keras-tuner) (0.22.2.post1)\n",
            "Requirement already satisfied, skipping upgrade: pyparsing>=2.0.2 in /usr/local/lib/python3.7/dist-packages (from packaging->keras-tuner) (2.4.7)\n",
            "Requirement already satisfied, skipping upgrade: idna<3,>=2.5 in /usr/local/lib/python3.7/dist-packages (from requests->keras-tuner) (2.10)\n",
            "Requirement already satisfied, skipping upgrade: urllib3!=1.25.0,!=1.25.1,<1.26,>=1.21.1 in /usr/local/lib/python3.7/dist-packages (from requests->keras-tuner) (1.24.3)\n",
            "Requirement already satisfied, skipping upgrade: certifi>=2017.4.17 in /usr/local/lib/python3.7/dist-packages (from requests->keras-tuner) (2020.12.5)\n",
            "Requirement already satisfied, skipping upgrade: chardet<4,>=3.0.2 in /usr/local/lib/python3.7/dist-packages (from requests->keras-tuner) (3.0.4)\n",
            "Requirement already satisfied, skipping upgrade: joblib>=0.11 in /usr/local/lib/python3.7/dist-packages (from scikit-learn->keras-tuner) (1.0.1)\n",
            "Building wheels for collected packages: keras-tuner, terminaltables\n",
            "  Building wheel for keras-tuner (setup.py) ... \u001b[?25l\u001b[?25hdone\n",
            "  Created wheel for keras-tuner: filename=keras_tuner-1.0.2-cp37-none-any.whl size=78938 sha256=bc2359a144f5041a5aa635392e8f0c6a1dbfe30e459810f1575d68fd23a23e6e\n",
            "  Stored in directory: /root/.cache/pip/wheels/bb/a1/8a/7c3de0efb3707a1701b36ebbfdbc4e67aedf6d4943a1f463d6\n",
            "  Building wheel for terminaltables (setup.py) ... \u001b[?25l\u001b[?25hdone\n",
            "  Created wheel for terminaltables: filename=terminaltables-3.1.0-cp37-none-any.whl size=15356 sha256=270cc527d33c28b00e5b117aaa46061ec79ec89fdc1d8e847e0c0d20f188ab0d\n",
            "  Stored in directory: /root/.cache/pip/wheels/30/6b/50/6c75775b681fb36cdfac7f19799888ef9d8813aff9e379663e\n",
            "Successfully built keras-tuner terminaltables\n",
            "Installing collected packages: terminaltables, colorama, keras-tuner\n",
            "Successfully installed colorama-0.4.4 keras-tuner-1.0.2 terminaltables-3.1.0\n"
          ],
          "name": "stdout"
        }
      ]
    },
    {
      "cell_type": "code",
      "metadata": {
        "id": "Fu86dSgQGMHX"
      },
      "source": [
        "plt.rcParams[\"figure.figsize\"] = [16,9]\n",
        "train_test_flag = False"
      ],
      "execution_count": null,
      "outputs": []
    },
    {
      "cell_type": "code",
      "metadata": {
        "id": "TJntx7w6CLVE"
      },
      "source": [
        "# _initializing constant variables\n",
        "if train_test_flag:\n",
        "  input_file_path = f'/content/drive/MyDrive/Colab Notebooks/processed_data_train.csv'\n",
        "  output_filename_features = f'UCIHAR_sensor_features_lstm_tuned_train.csv'\n",
        "  output_filename_activity = f'activity_subject_data_train.csv'\n",
        "else:\n",
        "  input_file_path = f'/content/drive/MyDrive/Colab Notebooks/processed_data_test.csv'\n",
        "  output_filename_features = f'UCIHAR_sensor_features_lstm_tuned_test.csv'\n",
        "  output_filename_activity = f'activity_subject_data_test.csv'\n",
        "\n",
        "col_names = ['subject_id', 'activityID', 'X1', 'Y1', 'Z1', 'X2', 'Y2', 'Z2']\n",
        "main_df = pd.read_csv(input_file_path, names=col_names)"
      ],
      "execution_count": null,
      "outputs": []
    },
    {
      "cell_type": "markdown",
      "metadata": {
        "id": "-awj-9dmpx-D"
      },
      "source": [
        "1 WALKING\n",
        "\n",
        "2 WALKING_UPSTAIRS\n",
        "\n",
        "3 WALKING_DOWNSTAIRS\n",
        "\n",
        "4 SITTING\n",
        "\n",
        "5 STANDING\n",
        "\n",
        "6 LAYING\n"
      ]
    },
    {
      "cell_type": "code",
      "metadata": {
        "colab": {
          "base_uri": "https://localhost:8080/",
          "height": 419
        },
        "id": "JI6YoohiC4ak",
        "outputId": "951317e1-7b3b-4bab-f181-3e1401b4c1d9"
      },
      "source": [
        "main_df"
      ],
      "execution_count": null,
      "outputs": [
        {
          "output_type": "execute_result",
          "data": {
            "text/html": [
              "<div>\n",
              "<style scoped>\n",
              "    .dataframe tbody tr th:only-of-type {\n",
              "        vertical-align: middle;\n",
              "    }\n",
              "\n",
              "    .dataframe tbody tr th {\n",
              "        vertical-align: top;\n",
              "    }\n",
              "\n",
              "    .dataframe thead th {\n",
              "        text-align: right;\n",
              "    }\n",
              "</style>\n",
              "<table border=\"1\" class=\"dataframe\">\n",
              "  <thead>\n",
              "    <tr style=\"text-align: right;\">\n",
              "      <th></th>\n",
              "      <th>subject_id</th>\n",
              "      <th>activityID</th>\n",
              "      <th>X1</th>\n",
              "      <th>Y1</th>\n",
              "      <th>Z1</th>\n",
              "      <th>X2</th>\n",
              "      <th>Y2</th>\n",
              "      <th>Z2</th>\n",
              "    </tr>\n",
              "  </thead>\n",
              "  <tbody>\n",
              "    <tr>\n",
              "      <th>0</th>\n",
              "      <td>1.0</td>\n",
              "      <td>5.0</td>\n",
              "      <td>1.041216</td>\n",
              "      <td>-0.269796</td>\n",
              "      <td>0.023780</td>\n",
              "      <td>0.437464</td>\n",
              "      <td>0.531349</td>\n",
              "      <td>0.136528</td>\n",
              "    </tr>\n",
              "    <tr>\n",
              "      <th>1</th>\n",
              "      <td>1.0</td>\n",
              "      <td>5.0</td>\n",
              "      <td>1.041803</td>\n",
              "      <td>-0.280025</td>\n",
              "      <td>0.076293</td>\n",
              "      <td>0.468264</td>\n",
              "      <td>0.721069</td>\n",
              "      <td>0.097622</td>\n",
              "    </tr>\n",
              "    <tr>\n",
              "      <th>2</th>\n",
              "      <td>1.0</td>\n",
              "      <td>5.0</td>\n",
              "      <td>1.039086</td>\n",
              "      <td>-0.292663</td>\n",
              "      <td>0.147475</td>\n",
              "      <td>0.498257</td>\n",
              "      <td>0.520328</td>\n",
              "      <td>0.083556</td>\n",
              "    </tr>\n",
              "    <tr>\n",
              "      <th>3</th>\n",
              "      <td>1.0</td>\n",
              "      <td>5.0</td>\n",
              "      <td>1.054768</td>\n",
              "      <td>-0.292384</td>\n",
              "      <td>0.139906</td>\n",
              "      <td>0.479396</td>\n",
              "      <td>0.372625</td>\n",
              "      <td>0.022861</td>\n",
              "    </tr>\n",
              "    <tr>\n",
              "      <th>4</th>\n",
              "      <td>1.0</td>\n",
              "      <td>5.0</td>\n",
              "      <td>1.028376</td>\n",
              "      <td>-0.285826</td>\n",
              "      <td>0.119934</td>\n",
              "      <td>0.389894</td>\n",
              "      <td>0.414541</td>\n",
              "      <td>-0.025939</td>\n",
              "    </tr>\n",
              "    <tr>\n",
              "      <th>...</th>\n",
              "      <td>...</td>\n",
              "      <td>...</td>\n",
              "      <td>...</td>\n",
              "      <td>...</td>\n",
              "      <td>...</td>\n",
              "      <td>...</td>\n",
              "      <td>...</td>\n",
              "      <td>...</td>\n",
              "    </tr>\n",
              "    <tr>\n",
              "      <th>377211</th>\n",
              "      <td>2947.0</td>\n",
              "      <td>2.0</td>\n",
              "      <td>0.908386</td>\n",
              "      <td>-0.423054</td>\n",
              "      <td>-0.092933</td>\n",
              "      <td>0.148295</td>\n",
              "      <td>-0.015923</td>\n",
              "      <td>0.109040</td>\n",
              "    </tr>\n",
              "    <tr>\n",
              "      <th>377212</th>\n",
              "      <td>2947.0</td>\n",
              "      <td>2.0</td>\n",
              "      <td>0.898984</td>\n",
              "      <td>-0.392272</td>\n",
              "      <td>-0.063138</td>\n",
              "      <td>0.143136</td>\n",
              "      <td>-0.024389</td>\n",
              "      <td>0.006547</td>\n",
              "    </tr>\n",
              "    <tr>\n",
              "      <th>377213</th>\n",
              "      <td>2947.0</td>\n",
              "      <td>2.0</td>\n",
              "      <td>0.918862</td>\n",
              "      <td>-0.351680</td>\n",
              "      <td>-0.072539</td>\n",
              "      <td>0.095931</td>\n",
              "      <td>-0.021024</td>\n",
              "      <td>-0.051342</td>\n",
              "    </tr>\n",
              "    <tr>\n",
              "      <th>377214</th>\n",
              "      <td>2947.0</td>\n",
              "      <td>2.0</td>\n",
              "      <td>0.949475</td>\n",
              "      <td>-0.267526</td>\n",
              "      <td>-0.050975</td>\n",
              "      <td>0.090708</td>\n",
              "      <td>-0.041893</td>\n",
              "      <td>-0.078877</td>\n",
              "    </tr>\n",
              "    <tr>\n",
              "      <th>377215</th>\n",
              "      <td>2947.0</td>\n",
              "      <td>2.0</td>\n",
              "      <td>0.957835</td>\n",
              "      <td>-0.194160</td>\n",
              "      <td>-0.028925</td>\n",
              "      <td>0.055943</td>\n",
              "      <td>-0.102402</td>\n",
              "      <td>-0.046268</td>\n",
              "    </tr>\n",
              "  </tbody>\n",
              "</table>\n",
              "<p>377216 rows × 8 columns</p>\n",
              "</div>"
            ],
            "text/plain": [
              "        subject_id  activityID        X1  ...        X2        Y2        Z2\n",
              "0              1.0         5.0  1.041216  ...  0.437464  0.531349  0.136528\n",
              "1              1.0         5.0  1.041803  ...  0.468264  0.721069  0.097622\n",
              "2              1.0         5.0  1.039086  ...  0.498257  0.520328  0.083556\n",
              "3              1.0         5.0  1.054768  ...  0.479396  0.372625  0.022861\n",
              "4              1.0         5.0  1.028376  ...  0.389894  0.414541 -0.025939\n",
              "...            ...         ...       ...  ...       ...       ...       ...\n",
              "377211      2947.0         2.0  0.908386  ...  0.148295 -0.015923  0.109040\n",
              "377212      2947.0         2.0  0.898984  ...  0.143136 -0.024389  0.006547\n",
              "377213      2947.0         2.0  0.918862  ...  0.095931 -0.021024 -0.051342\n",
              "377214      2947.0         2.0  0.949475  ...  0.090708 -0.041893 -0.078877\n",
              "377215      2947.0         2.0  0.957835  ...  0.055943 -0.102402 -0.046268\n",
              "\n",
              "[377216 rows x 8 columns]"
            ]
          },
          "metadata": {
            "tags": []
          },
          "execution_count": 42
        }
      ]
    },
    {
      "cell_type": "code",
      "metadata": {
        "id": "tP0i60muQuAW"
      },
      "source": [
        "#main_df[['subject_id', 'activityID', 'X1']].groupby(['subject_id', 'activityID']).agg(['count'])"
      ],
      "execution_count": null,
      "outputs": []
    },
    {
      "cell_type": "code",
      "metadata": {
        "id": "8_W_yQ4t2N1r"
      },
      "source": [
        "#main_df = main_df.loc[main_df['subject_id'] != 103]"
      ],
      "execution_count": null,
      "outputs": []
    },
    {
      "cell_type": "code",
      "metadata": {
        "id": "Q5_-ECNs5GOI"
      },
      "source": [
        "#main_df.sort_values(by=['activityID'], inplace=True)\n",
        "#main_df[['subject_id','activityID']].groupby(['activityID']).agg(['count'])"
      ],
      "execution_count": null,
      "outputs": []
    },
    {
      "cell_type": "code",
      "metadata": {
        "colab": {
          "base_uri": "https://localhost:8080/"
        },
        "id": "8kuYMnzu8DTa",
        "outputId": "11e68cbe-bf2c-4409-f5c8-a698e738c738"
      },
      "source": [
        "#drop_cols = ['subject_id']\n",
        "#main_df.drop(columns=drop_cols, axis=1, inplace=True)\n",
        "subjects = set(list(main_df.subject_id.unique()))\n",
        "print(len(subjects))"
      ],
      "execution_count": null,
      "outputs": [
        {
          "output_type": "stream",
          "text": [
            "2947\n"
          ],
          "name": "stdout"
        }
      ]
    },
    {
      "cell_type": "code",
      "metadata": {
        "colab": {
          "base_uri": "https://localhost:8080/"
        },
        "id": "Fz-JBXBYAoo2",
        "outputId": "7ebc11e0-42e0-4033-aaea-fc453425a9bc"
      },
      "source": [
        "main_df.shape"
      ],
      "execution_count": null,
      "outputs": [
        {
          "output_type": "execute_result",
          "data": {
            "text/plain": [
              "(377216, 8)"
            ]
          },
          "metadata": {
            "tags": []
          },
          "execution_count": 47
        }
      ]
    },
    {
      "cell_type": "code",
      "metadata": {
        "id": "muqAVOMcvm43"
      },
      "source": [
        "window_size = 16\n",
        "window_overlap = 8\n",
        "timesteps = window_size\n",
        "max_window_index = 128\n",
        "features = 6"
      ],
      "execution_count": null,
      "outputs": []
    },
    {
      "cell_type": "code",
      "metadata": {
        "colab": {
          "base_uri": "https://localhost:8080/"
        },
        "id": "MF7f2SdcBF4a",
        "outputId": "d7d360a6-3232-4e97-cb15-fec582968280"
      },
      "source": [
        "sensor_data = main_df.iloc[:, 2:].values.astype('float32')\n",
        "print(sensor_data.shape)"
      ],
      "execution_count": null,
      "outputs": [
        {
          "output_type": "stream",
          "text": [
            "(377216, 6)\n"
          ],
          "name": "stdout"
        }
      ]
    },
    {
      "cell_type": "code",
      "metadata": {
        "colab": {
          "base_uri": "https://localhost:8080/",
          "height": 538
        },
        "id": "uhLsk53eG13z",
        "outputId": "50a1473c-768b-4044-9212-17d53d5273a7"
      },
      "source": [
        "from sklearn.preprocessing import StandardScaler, MinMaxScaler\n",
        "\n",
        "for idx in range(features):\n",
        "    sensor_data[:, idx] = MinMaxScaler().fit_transform(sensor_data[:, idx].reshape(-1, 1)).reshape(1,-1)\n",
        "\n",
        "plt.figure()\n",
        "for col in range(features):\n",
        "\tplt.subplot(features, 1, col+1)\n",
        "\tplt.plot(sensor_data[:, col])\n",
        "\tplt.title(col_names[col+2], y=0.5, loc='right')\n",
        "\n",
        "plt.show()"
      ],
      "execution_count": null,
      "outputs": [
        {
          "output_type": "display_data",
          "data": {
            "image/png": "[encoded data removed]",
            "text/plain": [
              "<Figure size 1152x648 with 6 Axes>"
            ]
          },
          "metadata": {
            "tags": [],
            "needs_background": "light"
          }
        }
      ]
    },
    {
      "cell_type": "code",
      "metadata": {
        "id": "5wPEpnuj5zFr"
      },
      "source": [
        "def get_window_data(instance_data):\n",
        "\n",
        "  instance_data = instance_data.reshape(6, 128)\n",
        "  window_index = 0\n",
        "  sub_sequences = [[] for i in range(6)]\n",
        "\n",
        "  while window_index <= (max_window_index - window_size):\n",
        "\n",
        "      for idx in range(6):\n",
        "          sub_sequences[idx].append(instance_data[idx][window_index:window_index+window_size].tolist())\n",
        "\n",
        "      window_index += window_overlap\n",
        "\n",
        "  sub_sequences = np.array(sub_sequences).reshape(-1, 6, 16)\n",
        "  return sub_sequences"
      ],
      "execution_count": null,
      "outputs": []
    },
    {
      "cell_type": "code",
      "metadata": {
        "id": "0e9vGuZVGdnw"
      },
      "source": [
        "activity_subject_df = main_df[['activityID', 'subject_id']].drop_duplicates().values.astype('int32')\n",
        "activity_sequences = []\n",
        "sensor_sequences = np.array([])\n",
        "\n",
        "for instance in activity_subject_df:\n",
        "  activity = instance[0]\n",
        "  subject = instance[1]\n",
        "  instance_data = main_df.loc[(main_df['subject_id'] == subject) & (main_df['activityID'] == activity)]\n",
        "  subsequence_data = get_window_data(instance_data[col_names[2:]].values)\n",
        "\n",
        "  for val in range(subsequence_data.shape[0]):\n",
        "    activity_sequences.append([subject, activity])\n",
        "\n",
        "  if sensor_sequences.size == 0:\n",
        "    sensor_sequences = subsequence_data\n",
        "  else:\n",
        "    sensor_sequences = np.vstack((sensor_sequences, subsequence_data))  "
      ],
      "execution_count": null,
      "outputs": []
    },
    {
      "cell_type": "code",
      "metadata": {
        "id": "ttQC8m9RS-rE",
        "colab": {
          "base_uri": "https://localhost:8080/"
        },
        "outputId": "4c8c1797-3d26-4ccf-aced-ea34b2d9e92e"
      },
      "source": [
        "assert len(activity_sequences) == sensor_sequences.shape[0]\n",
        "sensor_sequences.shape"
      ],
      "execution_count": null,
      "outputs": [
        {
          "output_type": "execute_result",
          "data": {
            "text/plain": [
              "(44205, 6, 16)"
            ]
          },
          "metadata": {
            "tags": []
          },
          "execution_count": 53
        }
      ]
    },
    {
      "cell_type": "code",
      "metadata": {
        "colab": {
          "base_uri": "https://localhost:8080/"
        },
        "id": "e_A_6ilDYmGR",
        "outputId": "2bb558fe-3f18-43c1-de0f-750ca80d82a7"
      },
      "source": [
        "# _input data format - [samples, timesteps, features]\n",
        "features = 1\n",
        "sensor_data = sensor_sequences[:, 0]\n",
        "sensor_data = sensor_data.reshape(-1, timesteps, features)\n",
        "\n",
        "for col in range(1, 6):\n",
        "  sensor_data_channel = sensor_sequences[:, col]\n",
        "  sensor_data_channel = sensor_data_channel.reshape(-1, timesteps, features)\n",
        "\n",
        "  sensor_data = np.vstack((sensor_data, sensor_data_channel))  \n",
        "  \n",
        "sensor_data.shape"
      ],
      "execution_count": null,
      "outputs": [
        {
          "output_type": "execute_result",
          "data": {
            "text/plain": [
              "(265230, 16, 1)"
            ]
          },
          "metadata": {
            "tags": []
          },
          "execution_count": 54
        }
      ]
    },
    {
      "cell_type": "code",
      "metadata": {
        "id": "OJVd1SgfKSr3"
      },
      "source": [
        "def build_model(hp):\n",
        "\n",
        "    lstm_layer_1_output_params = hp.Int(\n",
        "        'output_1', min_value=80, max_value=120, step=5)\n",
        "    lstm_layer_2_output_params = hp.Int(\n",
        "        'output_2', min_value=50, max_value=80, step=5)\n",
        "    \n",
        "    lstm_layer_1_dropoutrate_params = hp.Float(\n",
        "        'dropoutrate_1', min_value=0.2, max_value=0.6, step=0.1)\n",
        "    lstm_layer_2_dropoutrate_params = hp.Float(\n",
        "        'dropoutrate_2', min_value=0.2, max_value=0.6, step=0.1)\n",
        "\n",
        "    activation_fn_params = hp.Choice(\n",
        "        'act_fn', values=['relu', 'tanh'])\n",
        "\n",
        "    learning_rate_params = hp.Choice(\n",
        "        'learning_rate', values=[1e-2, 1e-3])\n",
        "\n",
        "    model = tf.keras.models.Sequential([\n",
        "        tf.keras.layers.LSTM(lstm_layer_1_output_params, activation=activation_fn_params, input_shape=(timesteps, features), return_sequences=True),\n",
        "        tf.keras.layers.LSTM(lstm_layer_2_output_params, activation=activation_fn_params, return_sequences=False),\n",
        "        tf.keras.layers.Dropout(rate=lstm_layer_1_dropoutrate_params),\n",
        "\n",
        "        tf.keras.layers.RepeatVector(timesteps),\n",
        "\n",
        "        tf.keras.layers.LSTM(lstm_layer_2_output_params, activation=activation_fn_params, return_sequences=True),\n",
        "        tf.keras.layers.LSTM(lstm_layer_1_output_params, activation=activation_fn_params, return_sequences=True),\n",
        "        tf.keras.layers.Dropout(rate=lstm_layer_2_dropoutrate_params),\n",
        "\n",
        "        tf.keras.layers.TimeDistributed(tf.keras.layers.Dense(features))    \n",
        "    ])\n",
        "    model.compile(optimizer=tf.keras.optimizers.Adam(learning_rate=learning_rate_params),loss='mse')\n",
        "\n",
        "    return model"
      ],
      "execution_count": null,
      "outputs": []
    },
    {
      "cell_type": "code",
      "metadata": {
        "colab": {
          "base_uri": "https://localhost:8080/"
        },
        "id": "h8XRnw_4Ke5p",
        "outputId": "9e2ad065-2830-4ae0-d3aa-70ee4dc9d09b"
      },
      "source": [
        "tuner_bo = kt.tuners.BayesianOptimization(\n",
        "                build_model,objective=kt.Objective('val_loss', direction=\"min\"), max_trials = 10, executions_per_trial=2\n",
        ")\n",
        "\n",
        "# tuner_bo.search(sensor_data, sensor_data, epochs=3, batch_size=64 ,validation_split=0.3)\n",
        "# best_model = tuner_bo.get_best_models(num_models=1)[0]\n",
        "# print(best_model.summary()) \n",
        "\n",
        "# best_hp = tuner_bo.get_best_hyperparameters()[0]\n",
        "# print(best_hp.values)"
      ],
      "execution_count": null,
      "outputs": [
        {
          "output_type": "stream",
          "text": [
            "WARNING:tensorflow:Layer lstm will not use cuDNN kernel since it doesn't meet the cuDNN kernel criteria. It will use generic GPU kernel as fallback when running on GPU\n",
            "WARNING:tensorflow:Layer lstm_1 will not use cuDNN kernel since it doesn't meet the cuDNN kernel criteria. It will use generic GPU kernel as fallback when running on GPU\n",
            "WARNING:tensorflow:Layer lstm_2 will not use cuDNN kernel since it doesn't meet the cuDNN kernel criteria. It will use generic GPU kernel as fallback when running on GPU\n",
            "WARNING:tensorflow:Layer lstm_3 will not use cuDNN kernel since it doesn't meet the cuDNN kernel criteria. It will use generic GPU kernel as fallback when running on GPU\n"
          ],
          "name": "stdout"
        }
      ]
    },
    {
      "cell_type": "code",
      "metadata": {
        "id": "ZtL7qoLmbZQA"
      },
      "source": [
        "early_stopping = tf.keras.callbacks.EarlyStopping(\n",
        "    min_delta=0.001, \n",
        "    patience=10, \n",
        "    restore_best_weights=True,\n",
        ")\n",
        "\n",
        "#history = best_model.fit(sensor_data, sensor_data, epochs=50, validation_split=0.4, callbacks=[early_stopping], batch_size=32)"
      ],
      "execution_count": null,
      "outputs": []
    },
    {
      "cell_type": "code",
      "metadata": {
        "colab": {
          "base_uri": "https://localhost:8080/"
        },
        "id": "anH4s0ljYk7X",
        "outputId": "a2e13e61-e2f3-49ed-8a3a-cbefa21375ab"
      },
      "source": [
        "lstm_ae_model = tf.keras.models.Sequential([\n",
        "     tf.keras.layers.LSTM(100, activation='tanh', input_shape=(timesteps, features), return_sequences=True),\n",
        "     tf.keras.layers.LSTM(60, activation='tanh', return_sequences=False),\n",
        "     tf.keras.layers.Dropout(rate=0.2),\n",
        "\n",
        "     tf.keras.layers.RepeatVector(timesteps),\n",
        "\n",
        "     tf.keras.layers.LSTM(60, activation='tanh', return_sequences=True),\n",
        "     tf.keras.layers.LSTM(100, activation='tanh', return_sequences=True),\n",
        "     tf.keras.layers.Dropout(rate=0.5),\n",
        "\n",
        "     tf.keras.layers.TimeDistributed(tf.keras.layers.Dense(features))    \n",
        " ])\n",
        "lstm_ae_model.compile(optimizer=tf.keras.optimizers.Adam(learning_rate=0.001), loss='mae')\n",
        "lstm_ae_model.summary()"
      ],
      "execution_count": null,
      "outputs": [
        {
          "output_type": "stream",
          "text": [
            "Model: \"sequential_1\"\n",
            "_________________________________________________________________\n",
            "Layer (type)                 Output Shape              Param #   \n",
            "=================================================================\n",
            "lstm_4 (LSTM)                (None, 16, 100)           40800     \n",
            "_________________________________________________________________\n",
            "lstm_5 (LSTM)                (None, 60)                38640     \n",
            "_________________________________________________________________\n",
            "dropout_2 (Dropout)          (None, 60)                0         \n",
            "_________________________________________________________________\n",
            "repeat_vector_1 (RepeatVecto (None, 16, 60)            0         \n",
            "_________________________________________________________________\n",
            "lstm_6 (LSTM)                (None, 16, 60)            29040     \n",
            "_________________________________________________________________\n",
            "lstm_7 (LSTM)                (None, 16, 100)           64400     \n",
            "_________________________________________________________________\n",
            "dropout_3 (Dropout)          (None, 16, 100)           0         \n",
            "_________________________________________________________________\n",
            "time_distributed_1 (TimeDist (None, 16, 1)             101       \n",
            "=================================================================\n",
            "Total params: 172,981\n",
            "Trainable params: 172,981\n",
            "Non-trainable params: 0\n",
            "_________________________________________________________________\n"
          ],
          "name": "stdout"
        }
      ]
    },
    {
      "cell_type": "code",
      "metadata": {
        "id": "3UFj8qZXgqQl"
      },
      "source": [
        "#history = lstm_ae_model.fit(sensor_data, sensor_data, epochs=50, validation_split=0.4, callbacks=[early_stopping], batch_size=64)\n",
        "#best_model = lstm_ae_model"
      ],
      "execution_count": null,
      "outputs": []
    },
    {
      "cell_type": "code",
      "metadata": {
        "id": "vDLTiAVZb8-1",
        "colab": {
          "base_uri": "https://localhost:8080/",
          "height": 537
        },
        "outputId": "6d3a2e94-e043-427a-96c4-7dfe8d2d15eb"
      },
      "source": [
        "#lstm_ae_model.save('channel_independent.h5')\n",
        "plt.plot(history.history['loss'])\n",
        "plt.show()"
      ],
      "execution_count": null,
      "outputs": [
        {
          "output_type": "display_data",
          "data": {
            "image/png": "[encoded data removed]",
            "text/plain": [
              "<Figure size 1152x648 with 1 Axes>"
            ]
          },
          "metadata": {
            "tags": [],
            "needs_background": "light"
          }
        }
      ]
    },
    {
      "cell_type": "code",
      "metadata": {
        "colab": {
          "base_uri": "https://localhost:8080/"
        },
        "id": "THzPDewJUJfw",
        "outputId": "fb4c0893-77ba-407a-de86-e72f9d70dba1"
      },
      "source": [
        "sensor_data.shape"
      ],
      "execution_count": null,
      "outputs": [
        {
          "output_type": "execute_result",
          "data": {
            "text/plain": [
              "(265230, 16, 1)"
            ]
          },
          "metadata": {
            "tags": []
          },
          "execution_count": 61
        }
      ]
    },
    {
      "cell_type": "code",
      "metadata": {
        "id": "DoolW2ujp0il"
      },
      "source": [
        "#!mkdir -p saved_model\n",
        "#lstm_ae_model.save('saved_model/my_model') "
      ],
      "execution_count": null,
      "outputs": []
    },
    {
      "cell_type": "code",
      "metadata": {
        "id": "32Haqlk82xr9"
      },
      "source": [
        "#best_model = tf.keras.models.load_model('/content/drive/MyDrive/Classroom/channel_independent/') "
      ],
      "execution_count": null,
      "outputs": []
    },
    {
      "cell_type": "code",
      "metadata": {
        "id": "80CedRT2taui"
      },
      "source": [
        "get_2rd_layer_output = tf.keras.backend.function([best_model.layers[0].input],\n",
        "                                  [best_model.layers[2].output])"
      ],
      "execution_count": null,
      "outputs": []
    },
    {
      "cell_type": "code",
      "metadata": {
        "id": "8lY7CVqDWheE"
      },
      "source": [
        "def get_umap_data(data):\n",
        "    \n",
        "    data = MinMaxScaler().fit_transform(data)\n",
        "    model_umap = umap.UMAP(n_neighbors = 100, min_dist = 0.1, n_components = 4)\n",
        "    umap_vec = model_umap.fit_transform(data)\n",
        "\n",
        "    return umap_vec"
      ],
      "execution_count": null,
      "outputs": []
    },
    {
      "cell_type": "code",
      "metadata": {
        "colab": {
          "base_uri": "https://localhost:8080/"
        },
        "id": "2h7W7NOhF7on",
        "outputId": "fb81f320-d553-4d0d-b0a1-da8187b5222c"
      },
      "source": [
        "final_features = None\n",
        "for col in range(6):\n",
        "  sensor_data_channel = sensor_sequences[:, col]\n",
        "  sensor_data_channel = sensor_data_channel.reshape(-1, timesteps, features)\n",
        "\n",
        "  encoder_output = get_2rd_layer_output(sensor_data_channel)\n",
        "  sensor_features = np.asarray(encoder_output).astype('float32')\n",
        "\n",
        "  sensor_features = get_umap_data(sensor_features.reshape(sensor_features.shape[1], sensor_features.shape[2]))\n",
        "  if final_features is None:\n",
        "    final_features = sensor_features\n",
        "  else:\n",
        "    final_features = np.vstack((final_features, sensor_features))  \n",
        "\n",
        "  print(sensor_features.shape)"
      ],
      "execution_count": null,
      "outputs": [
        {
          "output_type": "stream",
          "text": [
            "(44205, 4)\n",
            "(44205, 4)\n",
            "(44205, 4)\n",
            "(44205, 4)\n",
            "(44205, 4)\n",
            "(44205, 4)\n"
          ],
          "name": "stdout"
        }
      ]
    },
    {
      "cell_type": "code",
      "metadata": {
        "colab": {
          "base_uri": "https://localhost:8080/"
        },
        "id": "ysCgSkHSLX07",
        "outputId": "945964a3-d45b-4e5e-9f9e-51dff4e0fe71"
      },
      "source": [
        "print(final_features.shape)"
      ],
      "execution_count": null,
      "outputs": [
        {
          "output_type": "stream",
          "text": [
            "(265230, 4)\n"
          ],
          "name": "stdout"
        }
      ]
    },
    {
      "cell_type": "code",
      "metadata": {
        "colab": {
          "base_uri": "https://localhost:8080/"
        },
        "id": "z1JEGTPMhnAc",
        "outputId": "08cef4f8-de9c-41e8-f123-9f29c0cfd1aa"
      },
      "source": [
        "activity_sequences = np.array(activity_sequences)\n",
        "activity_sequences.shape"
      ],
      "execution_count": null,
      "outputs": [
        {
          "output_type": "execute_result",
          "data": {
            "text/plain": [
              "(44205, 2)"
            ]
          },
          "metadata": {
            "tags": []
          },
          "execution_count": 68
        }
      ]
    },
    {
      "cell_type": "code",
      "metadata": {
        "id": "sKVl0374iqF0"
      },
      "source": [
        "np.savetxt(output_filename_features, final_features, delimiter=\",\")\n",
        "np.savetxt(output_filename_activity, activity_sequences, delimiter=\",\")"
      ],
      "execution_count": null,
      "outputs": []
    }
  ]
}